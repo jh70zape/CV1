{
 "cells": [
  {
   "cell_type": "code",
   "execution_count": 1,
   "metadata": {},
   "outputs": [],
   "source": [
    "IJulia.load(\"problem2.jl\")"
   ]
  },
  {
   "cell_type": "code",
   "execution_count": 2,
   "metadata": {},
   "outputs": [],
   "source": [
    "using Images\n",
    "using LinearAlgebra\n",
    "using PyPlot\n",
    "using Printf\n",
    "using Statistics"
   ]
  },
  {
   "cell_type": "code",
   "execution_count": null,
   "metadata": {},
   "outputs": [],
   "source": [
    "# Load images from the yale_faces directory and return a MxN data matrix,\n",
    "# where M is the number of pixels per face image and N is the number of images.\n",
    "# Also return the dimensions of a single face image and the number of all face images\n",
    "function loadfaces()\n",
    "    for i = 1:38\n",
    "        for j = 1:20\n",
    "            load(\"yale_faces/yaleBs%i\")\n",
    "  return data::Array{Float64,2},facedim::Array{Int},n::Int\n",
    "end"
   ]
  },
  {
   "cell_type": "code",
   "execution_count": 17,
   "metadata": {},
   "outputs": [
    {
     "ename": "UndefVarError",
     "evalue": "UndefVarError: imread not defined",
     "output_type": "error",
     "traceback": [
      "UndefVarError: imread not defined",
      "",
      "Stacktrace:",
      " [1] getproperty(::Module, ::Symbol) at ./sysimg.jl:13",
      " [2] top-level scope at In[17]:1"
     ]
    }
   ],
   "source": [
    "im = Images.imread(\"yale_faces/yaleBs01/01.pgm\")"
   ]
  },
  {
   "cell_type": "code",
   "execution_count": null,
   "metadata": {},
   "outputs": [],
   "source": [
    "# Apply principal component analysis on the data matrix.\n",
    "# Return the eigenvectors of covariance matrix of the data, the corresponding eigenvalues,\n",
    "# the one-dimensional mean data matrix and a cumulated variance vector in increasing order.\n",
    "function computepca(data::Array{Float64,2})\n",
    "\n",
    "  return U::Array{Float64,2},lambda::Array{Float64,1},mu::Array{Float64,2},cumvar::Array{Float64,1}\n",
    "end"
   ]
  },
  {
   "cell_type": "code",
   "execution_count": null,
   "metadata": {},
   "outputs": [],
   "source": [
    "# Plot the cumulative variance of the principal components\n",
    "function plotcumvar(cumvar::Array{Float64,1})\n",
    "\n",
    "  return nothing::Nothing\n",
    "end\n",
    "\n",
    "\n",
    "# Compute required number of components to account for (at least) 75/99% of the variance\n",
    "function computecomponents(cumvar::Array{Float64,1})\n",
    "\n",
    "  return n75::Int,n99::Int\n",
    "end\n",
    "\n",
    "\n",
    "# Display the mean face and the first 10 Eigenfaces in a single figure\n",
    "function showeigenfaces(U::Array{Float64,2},mu::Array{Float64,2},facedim::Array{Int})\n",
    "\n",
    "  return nothing::Nothing\n",
    "end\n",
    "\n",
    "\n",
    "# Fetch a single face with given index out of the data matrix\n",
    "function takeface(data::Array{Float64,2},facedim::Array{Int},n::Int)\n",
    "\n",
    "  return face::Array{Float64,2}\n",
    "end\n",
    "\n",
    "\n",
    "# Project a given face into the low-dimensional space with a given number of principal\n",
    "# components and reconstruct it afterwards\n",
    "function computereconstruction(faceim::Array{Float64,2},U::Array{Float64,2},mu::Array{Float64,2},n::Int)\n",
    "\n",
    "  return recon::Array{Float64,2}\n",
    "end\n",
    "\n",
    "# Display all reconstructed faces in a single figure\n",
    "function showreconstructedfaces(faceim, f5, f15, f50, f150)\n",
    "\n",
    "  return nothing::Nothing\n",
    "end\n",
    "\n",
    "# Problem 2: Eigenfaces\n",
    "\n",
    "function problem2()\n",
    "  # load data\n",
    "  data,facedim,N = loadfaces()\n",
    "\n",
    "  # compute PCA\n",
    "  U,lambda,mu,cumvar = computepca(data)\n",
    "\n",
    "  # plot cumulative variance\n",
    "  plotcumvar(cumvar)\n",
    "\n",
    "  # compute necessary components for 75% / 99% variance coverage\n",
    "  n75,n99 = computecomponents(cumvar)\n",
    "  println(@sprintf(\"Necssary components for 75%% variance coverage: %i\", n75))\n",
    "  println(@sprintf(\"Necssary components for 99%% variance coverage: %i\", n99))\n",
    "\n",
    "  # plot mean face and first 10 Eigenfaces\n",
    "  showeigenfaces(U,mu,facedim)\n",
    "\n",
    "  # get a random face\n",
    "  faceim = takeface(data,facedim,rand(1:N))\n",
    "\n",
    "  # reconstruct the face with 5, 15, 50, 150 principal components\n",
    "  f5 = computereconstruction(faceim,U,mu,5)\n",
    "  f15 = computereconstruction(faceim,U,mu,15)\n",
    "  f50 = computereconstruction(faceim,U,mu,50)\n",
    "  f150 = computereconstruction(faceim,U,mu,150)\n",
    "\n",
    "  # display the reconstructed faces\n",
    "  showreconstructedfaces(faceim, f5, f15, f50, f150)\n",
    "\n",
    "  return\n",
    "end"
   ]
  },
  {
   "cell_type": "code",
   "execution_count": null,
   "metadata": {},
   "outputs": [],
   "source": []
  }
 ],
 "metadata": {
  "kernelspec": {
   "display_name": "Julia 1.0.1",
   "language": "julia",
   "name": "julia-1.0"
  },
  "language_info": {
   "file_extension": ".jl",
   "mimetype": "application/julia",
   "name": "julia",
   "version": "1.0.1"
  }
 },
 "nbformat": 4,
 "nbformat_minor": 2
}
