{
 "cells": [
  {
   "cell_type": "code",
   "execution_count": null,
   "metadata": {},
   "outputs": [],
   "source": [
    "using PyPlot\n",
    "using FileIO  # save and load\n",
    "\n",
    "# load and return the given image\n",
    "function loadimage()\n",
    "    \n",
    "    img = imread(\"./a1p1.png\")\n",
    "    return img::Array{Float32,3}\n",
    "end\n",
    "\n",
    "# save the image as a .jld2 file\n",
    "function savefile(img::Array{Float32,3})\n",
    "    key = \"img\"\n",
    "    value = img\n",
    "    save(\"./a1p1.jld2\", key, value)\n",
    "\n",
    "end\n",
    "\n",
    "# load and return the .jld2 file\n",
    "function loadfile()\n",
    "    key = \"img\"\n",
    "    img = load(\"a1p1.jld2\", key)\n",
    "    return img::Array{Float32,3}\n",
    "end\n",
    "\n",
    "# create and return a horizontally mirrored image\n",
    "function mirrorhorizontal(img::Array{Float32,3})\n",
    "    mirrored = Array{Float32, 3}(img)\n",
    "    mirrored[:, :, :] = img[:, end:-1:1, :]\n",
    "  return mirrored::Array{Float32,3}\n",
    "end\n",
    "\n",
    "# display the normal and the mirrored image in one plot\n",
    "function showimages(img1::Array{Float32,3}, img2::Array{Float32,3})\n",
    "    figure()\n",
    "    subplot(1, 2, 1)\n",
    "    imshow(img1)\n",
    "    subplot(1, 2, 2)\n",
    "    imshow(img2)\n",
    "    \n",
    "end\n",
    "\n",
    "#= Problem 1\n",
    "Load and Display =#\n",
    "\n",
    "function problem1()\n",
    "  img1 = loadimage()\n",
    "  savefile(img1)\n",
    "  img2 = loadfile()\n",
    "  img2 = mirrorhorizontal(img2)\n",
    "  showimages(img1, img2)\n",
    "end"
   ]
  },
  {
   "cell_type": "code",
   "execution_count": null,
   "metadata": {},
   "outputs": [],
   "source": [
    "problem1()"
   ]
  },
  {
   "cell_type": "code",
   "execution_count": null,
   "metadata": {},
   "outputs": [],
   "source": []
  }
 ],
 "metadata": {
  "kernelspec": {
   "display_name": "Julia 1.0.1",
   "language": "julia",
   "name": "julia-1.0"
  },
  "language_info": {
   "file_extension": ".jl",
   "mimetype": "application/julia",
   "name": "julia",
   "version": "1.0.1"
  }
 },
 "nbformat": 4,
 "nbformat_minor": 2
}
