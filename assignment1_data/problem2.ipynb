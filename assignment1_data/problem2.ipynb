{
 "cells": [
  {
   "cell_type": "code",
   "execution_count": 1,
   "metadata": {},
   "outputs": [
    {
     "data": {
      "text/plain": [
       "problem2 (generic function with 1 method)"
      ]
     },
     "execution_count": 1,
     "metadata": {},
     "output_type": "execute_result"
    }
   ],
   "source": [
    "using Images  # Basic image processing functions\n",
    "using PyPlot  # Plotting and image loading\n",
    "using FileIO  # Functions for loading and storing data in the \".jld2\" format\n",
    "\n",
    "\n",
    "# Load the image from the provided .jld2 file\n",
    "function loaddata()\n",
    "    \n",
    "    data = load(\"imagedata.jld2\", \"data\")\n",
    "    \n",
    "    return data::Array{Float64,2}\n",
    "end\n",
    "\n",
    "# Separate the image data into three images (one for each color channel),\n",
    "# filling up all unknown values with 0\n",
    "function separatechannels(data::Array{Float64,2})\n",
    "    r = zeros(Float64, size(data))\n",
    "    g = zeros(Float64, size(data))\n",
    "    b = zeros(Float64, size(data))\n",
    "    \n",
    "    for i = 1: size(data, 1)\n",
    "        if i % 2 == 1\n",
    "            r[i, 1:2:end] = data[i, 1:2:end]\n",
    "            g[i, 2:2:end] = data[i, 2:2:end]\n",
    "        else\n",
    "            b[i, 1:2:end] = data[i, 1:2:end]\n",
    "            r[i, 2:2:end] = data[i, 2:2:end]\n",
    "        end\n",
    "    end\n",
    "    return r::Array{Float64,2},g::Array{Float64,2},b::Array{Float64,2}\n",
    "end\n",
    "\n",
    "# Combine three color channels into a single image\n",
    "function makeimage(r::Array{Float64,2},g::Array{Float64,2},b::Array{Float64,2})\n",
    "    image = zeros(size(r, 1), size(r, 2), 3)\n",
    "    image[:, :, 1] = r\n",
    "    image[:, :, 2] = g\n",
    "    image[:, :, 3] = b\n",
    "    return image::Array{Float64,3}\n",
    "end\n",
    "\n",
    "# Interpolate missing color values using bilinear interpolation\n",
    "function interpolate(r::Array{Float64,2},g::Array{Float64,2},b::Array{Float64,2})\n",
    "    hr = [0 1 0; 1 4 1; 0 1 0]/4\n",
    "    r_interpolate = imfilter(r, centered(hr))\n",
    "    hg = [1 2 1; 2 4 2; 1 2 1]/4\n",
    "    g_interpolate = imfilter(g, centered(hg))\n",
    "    hb = [1 2 1; 2 4 2; 1 2 1]/4\n",
    "    b_interpolate = imfilter(b, centered(hb))\n",
    "    \n",
    "    image = zeros(Float64, (size(r, 1), size(r, 2), 3))    \n",
    "    image[:,:,1] = r_interpolate\n",
    "    image[:,:,2] = g_interpolate\n",
    "    image[:,:,3] = b_interpolate\n",
    "    \n",
    "    return image::Array{Float64,3}\n",
    "end\n",
    "\n",
    "# Display two images in a single figure window\n",
    "function displayimages(img1::Array{Float64,3}, img2::Array{Float64,3})\n",
    "    figure()\n",
    "    subplot(1, 2, 1)\n",
    "    imshow(img1)\n",
    "    subplot(1, 2, 2)\n",
    "    imshow(img2)\n",
    "end\n",
    "\n",
    "#= Problem 2\n",
    "Bayer Interpolation =#\n",
    "\n",
    "function problem2()\n",
    "  # load raw data\n",
    "  data = loaddata()\n",
    "  # separate data\n",
    "  r,g,b = separatechannels(data)\n",
    "  # merge raw pattern\n",
    "  img1 = makeimage(r,g,b)\n",
    "  # interpolate\n",
    "  img2 = interpolate(r,g,b)\n",
    "  # display images\n",
    "  displayimages(img1, img2)\n",
    "  return\n",
    "end"
   ]
  },
  {
   "cell_type": "code",
   "execution_count": null,
   "metadata": {},
   "outputs": [],
   "source": [
    "problem2()"
   ]
  }
 ],
 "metadata": {
  "kernelspec": {
   "display_name": "Julia 1.0.1",
   "language": "julia",
   "name": "julia-1.0"
  },
  "language_info": {
   "file_extension": ".jl",
   "mimetype": "application/julia",
   "name": "julia",
   "version": "1.0.1"
  }
 },
 "nbformat": 4,
 "nbformat_minor": 2
}
